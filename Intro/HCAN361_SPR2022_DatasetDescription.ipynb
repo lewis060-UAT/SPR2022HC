{
    "metadata": {
        "kernelspec": {
            "name": "SQL",
            "display_name": "SQL",
            "language": "sql"
        },
        "language_info": {
            "name": "sql",
            "version": ""
        }
    },
    "nbformat_minor": 2,
    "nbformat": 4,
    "cells": [
        {
            "cell_type": "markdown",
            "source": [
                "# Layout of Final Project Data\n",
                "\n",
                "_note: Due to restrictions to promote data security, we are unable to share some details about our project_\n",
                "\n",
                "![Drawing](https://github.com/lewis060-UAT/cipsLect/blob/main/pics/HCAN361_SPR_FinalProj_ERD.png?raw=true)"
            ],
            "metadata": {
                "azdata_cell_guid": "b69d4bb7-bd17-4600-a246-a43af72b9567"
            },
            "attachments": {}
        },
        {
            "cell_type": "markdown",
            "source": [
                "# About the 2019 Healthcare Cost and Utilization Project (HCUP) Nationwide Inpatient Sample (NIS) Database\n",
                "\n",
                "- The HCUP NIS is the largest publicly available all-payer inpatient care database in the United States,  and contains data on more than seven million hospital stays.\n",
                "- Students in this course developed queries using non-weighted analyses to examine national trends\n",
                "    - Since this course focuses more on data management practices in secured computing environments, the course's instructor adjusted students' queries to make estimates nationally representative\n",
                "- [Full overview of data source](https://www.hcup-us.ahrq.gov/db/nation/nis/nisdbdocumentation.jsp)\n",
                "- [HCUP NIS data dictionary](https://www.hcup-us.ahrq.gov/db/nation/nis/nisdde.jsp)"
            ],
            "metadata": {
                "azdata_cell_guid": "e6ac46b3-a6ab-41df-bd1c-57b5b158589b"
            },
            "attachments": {}
        }
    ]
}